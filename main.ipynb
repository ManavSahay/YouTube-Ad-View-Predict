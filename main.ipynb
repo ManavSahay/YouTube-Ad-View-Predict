{
 "cells": [
  {
   "cell_type": "code",
   "execution_count": 55,
   "metadata": {},
   "outputs": [],
   "source": [
    "import pandas as pd\n",
    "import numpy as np\n",
    "import matplotlib.pyplot as plt\n",
    "import seaborn as sns\n",
    "from sklearn.preprocessing import LabelEncoder, MinMaxScaler\n",
    "from sklearn.model_selection import train_test_split\n",
    "from sklearn.linear_model import LinearRegression\n",
    "from sklearn.svm import SVR\n",
    "from sklearn.tree import DecisionTreeRegressor\n",
    "from sklearn.ensemble import RandomForestRegressor\n",
    "from sklearn.metrics import mean_squared_error, mean_absolute_error\n",
    "import keras\n",
    "from keras.layers import Dense\n",
    "import joblib\n",
    "import datetime\n",
    "import time\n",
    "import warnings"
   ]
  },
  {
   "cell_type": "code",
   "execution_count": 56,
   "metadata": {},
   "outputs": [],
   "source": [
    "warnings.filterwarnings('ignore')"
   ]
  },
  {
   "cell_type": "code",
   "execution_count": 57,
   "metadata": {},
   "outputs": [],
   "source": [
    "df = pd.read_csv('train.csv')"
   ]
  },
  {
   "cell_type": "code",
   "execution_count": 58,
   "metadata": {},
   "outputs": [
    {
     "data": {
      "text/html": [
       "<div>\n",
       "<style scoped>\n",
       "    .dataframe tbody tr th:only-of-type {\n",
       "        vertical-align: middle;\n",
       "    }\n",
       "\n",
       "    .dataframe tbody tr th {\n",
       "        vertical-align: top;\n",
       "    }\n",
       "\n",
       "    .dataframe thead th {\n",
       "        text-align: right;\n",
       "    }\n",
       "</style>\n",
       "<table border=\"1\" class=\"dataframe\">\n",
       "  <thead>\n",
       "    <tr style=\"text-align: right;\">\n",
       "      <th></th>\n",
       "      <th>vidid</th>\n",
       "      <th>adview</th>\n",
       "      <th>views</th>\n",
       "      <th>likes</th>\n",
       "      <th>dislikes</th>\n",
       "      <th>comment</th>\n",
       "      <th>published</th>\n",
       "      <th>duration</th>\n",
       "      <th>category</th>\n",
       "    </tr>\n",
       "  </thead>\n",
       "  <tbody>\n",
       "    <tr>\n",
       "      <th>0</th>\n",
       "      <td>VID_18655</td>\n",
       "      <td>40</td>\n",
       "      <td>1031602</td>\n",
       "      <td>8523</td>\n",
       "      <td>363</td>\n",
       "      <td>1095</td>\n",
       "      <td>2016-09-14</td>\n",
       "      <td>PT7M37S</td>\n",
       "      <td>F</td>\n",
       "    </tr>\n",
       "    <tr>\n",
       "      <th>1</th>\n",
       "      <td>VID_14135</td>\n",
       "      <td>2</td>\n",
       "      <td>1707</td>\n",
       "      <td>56</td>\n",
       "      <td>2</td>\n",
       "      <td>6</td>\n",
       "      <td>2016-10-01</td>\n",
       "      <td>PT9M30S</td>\n",
       "      <td>D</td>\n",
       "    </tr>\n",
       "    <tr>\n",
       "      <th>2</th>\n",
       "      <td>VID_2187</td>\n",
       "      <td>1</td>\n",
       "      <td>2023</td>\n",
       "      <td>25</td>\n",
       "      <td>0</td>\n",
       "      <td>2</td>\n",
       "      <td>2016-07-02</td>\n",
       "      <td>PT2M16S</td>\n",
       "      <td>C</td>\n",
       "    </tr>\n",
       "    <tr>\n",
       "      <th>3</th>\n",
       "      <td>VID_23096</td>\n",
       "      <td>6</td>\n",
       "      <td>620860</td>\n",
       "      <td>777</td>\n",
       "      <td>161</td>\n",
       "      <td>153</td>\n",
       "      <td>2016-07-27</td>\n",
       "      <td>PT4M22S</td>\n",
       "      <td>H</td>\n",
       "    </tr>\n",
       "    <tr>\n",
       "      <th>4</th>\n",
       "      <td>VID_10175</td>\n",
       "      <td>1</td>\n",
       "      <td>666</td>\n",
       "      <td>1</td>\n",
       "      <td>0</td>\n",
       "      <td>0</td>\n",
       "      <td>2016-06-29</td>\n",
       "      <td>PT31S</td>\n",
       "      <td>D</td>\n",
       "    </tr>\n",
       "  </tbody>\n",
       "</table>\n",
       "</div>"
      ],
      "text/plain": [
       "       vidid  adview    views likes dislikes comment   published duration  \\\n",
       "0  VID_18655      40  1031602  8523      363    1095  2016-09-14  PT7M37S   \n",
       "1  VID_14135       2     1707    56        2       6  2016-10-01  PT9M30S   \n",
       "2   VID_2187       1     2023    25        0       2  2016-07-02  PT2M16S   \n",
       "3  VID_23096       6   620860   777      161     153  2016-07-27  PT4M22S   \n",
       "4  VID_10175       1      666     1        0       0  2016-06-29    PT31S   \n",
       "\n",
       "  category  \n",
       "0        F  \n",
       "1        D  \n",
       "2        C  \n",
       "3        H  \n",
       "4        D  "
      ]
     },
     "execution_count": 58,
     "metadata": {},
     "output_type": "execute_result"
    }
   ],
   "source": [
    "df.head()"
   ]
  },
  {
   "cell_type": "code",
   "execution_count": 59,
   "metadata": {},
   "outputs": [
    {
     "data": {
      "text/plain": [
       "(14999, 9)"
      ]
     },
     "execution_count": 59,
     "metadata": {},
     "output_type": "execute_result"
    }
   ],
   "source": [
    "df.shape"
   ]
  },
  {
   "cell_type": "code",
   "execution_count": 60,
   "metadata": {},
   "outputs": [
    {
     "data": {
      "text/plain": [
       "vidid        object\n",
       "adview        int64\n",
       "views        object\n",
       "likes        object\n",
       "dislikes     object\n",
       "comment      object\n",
       "published    object\n",
       "duration     object\n",
       "category     object\n",
       "dtype: object"
      ]
     },
     "execution_count": 60,
     "metadata": {},
     "output_type": "execute_result"
    }
   ],
   "source": [
    "df.dtypes"
   ]
  },
  {
   "cell_type": "code",
   "execution_count": 61,
   "metadata": {},
   "outputs": [],
   "source": [
    "df = df.drop(['vidid'], axis=1)\n"
   ]
  },
  {
   "cell_type": "code",
   "execution_count": 62,
   "metadata": {},
   "outputs": [
    {
     "data": {
      "text/plain": [
       "5429665"
      ]
     },
     "execution_count": 62,
     "metadata": {},
     "output_type": "execute_result"
    }
   ],
   "source": [
    "df['adview'].max()"
   ]
  },
  {
   "cell_type": "code",
   "execution_count": 63,
   "metadata": {},
   "outputs": [
    {
     "data": {
      "image/png": "[encoded data removed]",
      "text/plain": [
       "<Figure size 640x480 with 1 Axes>"
      ]
     },
     "metadata": {},
     "output_type": "display_data"
    },
    {
     "data": {
      "image/png": "[encoded data removed]",
      "text/plain": [
       "<Figure size 640x480 with 1 Axes>"
      ]
     },
     "metadata": {},
     "output_type": "display_data"
    }
   ],
   "source": [
    "plt.hist(df['category'])\n",
    "plt.show()\n",
    "plt.plot(df['adview'])\n",
    "plt.show()"
   ]
  },
  {
   "cell_type": "code",
   "execution_count": 64,
   "metadata": {},
   "outputs": [],
   "source": [
    "df = df[df['adview'] <  2000000]"
   ]
  },
  {
   "cell_type": "code",
   "execution_count": 65,
   "metadata": {},
   "outputs": [
    {
     "data": {
      "image/png": "[encoded data removed]",
      "text/plain": [
       "<Figure size 640x480 with 1 Axes>"
      ]
     },
     "metadata": {},
     "output_type": "display_data"
    }
   ],
   "source": [
    "plt.plot(df['adview'])\n",
    "plt.show()"
   ]
  },
  {
   "cell_type": "code",
   "execution_count": 66,
   "metadata": {},
   "outputs": [],
   "source": [
    "df = df[df['views'] != 'F']\n",
    "df = df[df['likes'] != 'F']\n",
    "df = df[df['dislikes'] != 'F']\n",
    "df = df[df['comment'] != 'F']"
   ]
  },
  {
   "cell_type": "code",
   "execution_count": 67,
   "metadata": {},
   "outputs": [],
   "source": [
    "df['views'] = pd.to_numeric(df['views'])\n",
    "df['likes'] = pd.to_numeric(df['likes'])\n",
    "df['dislikes'] = pd.to_numeric(df['dislikes'])\n",
    "df['comment'] = pd.to_numeric(df['comment'])\n",
    "df['adview'] = pd.to_numeric(df['adview'])"
   ]
  },
  {
   "cell_type": "code",
   "execution_count": 68,
   "metadata": {},
   "outputs": [
    {
     "data": {
      "text/plain": [
       "adview        int64\n",
       "views         int64\n",
       "likes         int64\n",
       "dislikes      int64\n",
       "comment       int64\n",
       "published    object\n",
       "duration     object\n",
       "category     object\n",
       "dtype: object"
      ]
     },
     "execution_count": 68,
     "metadata": {},
     "output_type": "execute_result"
    }
   ],
   "source": [
    "df.dtypes"
   ]
  },
  {
   "cell_type": "code",
   "execution_count": 69,
   "metadata": {},
   "outputs": [
    {
     "data": {
      "text/plain": [
       "(14636, 8)"
      ]
     },
     "execution_count": 69,
     "metadata": {},
     "output_type": "execute_result"
    }
   ],
   "source": [
    "df.shape"
   ]
  },
  {
   "cell_type": "code",
   "execution_count": 70,
   "metadata": {},
   "outputs": [
    {
     "data": {
      "text/plain": [
       "array(['F', 'D', 'C', 'H', 'E', 'B', 'G', 'A'], dtype=object)"
      ]
     },
     "execution_count": 70,
     "metadata": {},
     "output_type": "execute_result"
    }
   ],
   "source": [
    "df['category'].unique()"
   ]
  },
  {
   "cell_type": "code",
   "execution_count": 71,
   "metadata": {},
   "outputs": [],
   "source": [
    "category = {'A': 1, 'B': 2, 'C': 3, 'D': 4, 'E': 5, 'F': 6, 'G': 7, 'H': 8}\n",
    "df['category'] = df['category'].map(category)"
   ]
  },
  {
   "cell_type": "code",
   "execution_count": 72,
   "metadata": {},
   "outputs": [
    {
     "data": {
      "text/html": [
       "<div>\n",
       "<style scoped>\n",
       "    .dataframe tbody tr th:only-of-type {\n",
       "        vertical-align: middle;\n",
       "    }\n",
       "\n",
       "    .dataframe tbody tr th {\n",
       "        vertical-align: top;\n",
       "    }\n",
       "\n",
       "    .dataframe thead th {\n",
       "        text-align: right;\n",
       "    }\n",
       "</style>\n",
       "<table border=\"1\" class=\"dataframe\">\n",
       "  <thead>\n",
       "    <tr style=\"text-align: right;\">\n",
       "      <th></th>\n",
       "      <th>adview</th>\n",
       "      <th>views</th>\n",
       "      <th>likes</th>\n",
       "      <th>dislikes</th>\n",
       "      <th>comment</th>\n",
       "      <th>published</th>\n",
       "      <th>duration</th>\n",
       "      <th>category</th>\n",
       "    </tr>\n",
       "  </thead>\n",
       "  <tbody>\n",
       "    <tr>\n",
       "      <th>0</th>\n",
       "      <td>40</td>\n",
       "      <td>1031602</td>\n",
       "      <td>8523</td>\n",
       "      <td>363</td>\n",
       "      <td>1095</td>\n",
       "      <td>2168</td>\n",
       "      <td>2925</td>\n",
       "      <td>6</td>\n",
       "    </tr>\n",
       "    <tr>\n",
       "      <th>1</th>\n",
       "      <td>2</td>\n",
       "      <td>1707</td>\n",
       "      <td>56</td>\n",
       "      <td>2</td>\n",
       "      <td>6</td>\n",
       "      <td>2185</td>\n",
       "      <td>3040</td>\n",
       "      <td>4</td>\n",
       "    </tr>\n",
       "    <tr>\n",
       "      <th>2</th>\n",
       "      <td>1</td>\n",
       "      <td>2023</td>\n",
       "      <td>25</td>\n",
       "      <td>0</td>\n",
       "      <td>2</td>\n",
       "      <td>2094</td>\n",
       "      <td>1863</td>\n",
       "      <td>3</td>\n",
       "    </tr>\n",
       "    <tr>\n",
       "      <th>3</th>\n",
       "      <td>6</td>\n",
       "      <td>620860</td>\n",
       "      <td>777</td>\n",
       "      <td>161</td>\n",
       "      <td>153</td>\n",
       "      <td>2119</td>\n",
       "      <td>2546</td>\n",
       "      <td>8</td>\n",
       "    </tr>\n",
       "    <tr>\n",
       "      <th>4</th>\n",
       "      <td>1</td>\n",
       "      <td>666</td>\n",
       "      <td>1</td>\n",
       "      <td>0</td>\n",
       "      <td>0</td>\n",
       "      <td>2091</td>\n",
       "      <td>1963</td>\n",
       "      <td>4</td>\n",
       "    </tr>\n",
       "  </tbody>\n",
       "</table>\n",
       "</div>"
      ],
      "text/plain": [
       "   adview    views  likes  dislikes  comment  published  duration  category\n",
       "0      40  1031602   8523       363     1095       2168      2925         6\n",
       "1       2     1707     56         2        6       2185      3040         4\n",
       "2       1     2023     25         0        2       2094      1863         3\n",
       "3       6   620860    777       161      153       2119      2546         8\n",
       "4       1      666      1         0        0       2091      1963         4"
      ]
     },
     "execution_count": 72,
     "metadata": {},
     "output_type": "execute_result"
    }
   ],
   "source": [
    "label_encoder = LabelEncoder()\n",
    "df['duration'] = label_encoder.fit_transform(df['duration'])\n",
    "df['published'] = label_encoder.fit_transform(df['published'])\n",
    "df.head()"
   ]
  },
  {
   "cell_type": "code",
   "execution_count": 73,
   "metadata": {},
   "outputs": [],
   "source": [
    "def checki(x):\n",
    "    y = x[2:]\n",
    "    h = ''\n",
    "    m = ''\n",
    "    s = ''\n",
    "    mm = ''\n",
    "    P = ['H','M','S']\n",
    "    for i in y:\n",
    "        if i not in P:\n",
    "            mm+=i\n",
    "        else:\n",
    "            if(i==\"H\"):\n",
    "                h = mm\n",
    "                mm = ''\n",
    "            elif(i == \"M\"):\n",
    "                m = mm\n",
    "                mm = ''\n",
    "            else:\n",
    "                s = mm\n",
    "                mm = ''\n",
    "        if(h==''):\n",
    "            h = '00'\n",
    "        if(m == ''):\n",
    "            m = '00'\n",
    "        if(s==''):\n",
    "            s='00'\n",
    "            \n",
    "    bp = h+':'+m+':'+s\n",
    "    return bp"
   ]
  },
  {
   "cell_type": "code",
   "execution_count": 74,
   "metadata": {},
   "outputs": [],
   "source": [
    "md = pd.read_csv('train.csv')['duration']\n",
    "time = md.apply(checki)"
   ]
  },
  {
   "cell_type": "code",
   "execution_count": 75,
   "metadata": {},
   "outputs": [],
   "source": [
    "def func_sec(time_string):\n",
    "    h, m, s = time_string.split(':')\n",
    "    return int(h) * 3600 + int(m) * 60 + int(s)"
   ]
  },
  {
   "cell_type": "code",
   "execution_count": 76,
   "metadata": {},
   "outputs": [],
   "source": [
    "time1 = time.apply(func_sec)"
   ]
  },
  {
   "cell_type": "code",
   "execution_count": 77,
   "metadata": {},
   "outputs": [
    {
     "data": {
      "text/html": [
       "<div>\n",
       "<style scoped>\n",
       "    .dataframe tbody tr th:only-of-type {\n",
       "        vertical-align: middle;\n",
       "    }\n",
       "\n",
       "    .dataframe tbody tr th {\n",
       "        vertical-align: top;\n",
       "    }\n",
       "\n",
       "    .dataframe thead th {\n",
       "        text-align: right;\n",
       "    }\n",
       "</style>\n",
       "<table border=\"1\" class=\"dataframe\">\n",
       "  <thead>\n",
       "    <tr style=\"text-align: right;\">\n",
       "      <th></th>\n",
       "      <th>adview</th>\n",
       "      <th>views</th>\n",
       "      <th>likes</th>\n",
       "      <th>dislikes</th>\n",
       "      <th>comment</th>\n",
       "      <th>published</th>\n",
       "      <th>duration</th>\n",
       "      <th>category</th>\n",
       "    </tr>\n",
       "  </thead>\n",
       "  <tbody>\n",
       "    <tr>\n",
       "      <th>0</th>\n",
       "      <td>40</td>\n",
       "      <td>1031602</td>\n",
       "      <td>8523</td>\n",
       "      <td>363</td>\n",
       "      <td>1095</td>\n",
       "      <td>2168</td>\n",
       "      <td>457</td>\n",
       "      <td>6</td>\n",
       "    </tr>\n",
       "    <tr>\n",
       "      <th>1</th>\n",
       "      <td>2</td>\n",
       "      <td>1707</td>\n",
       "      <td>56</td>\n",
       "      <td>2</td>\n",
       "      <td>6</td>\n",
       "      <td>2185</td>\n",
       "      <td>570</td>\n",
       "      <td>4</td>\n",
       "    </tr>\n",
       "    <tr>\n",
       "      <th>2</th>\n",
       "      <td>1</td>\n",
       "      <td>2023</td>\n",
       "      <td>25</td>\n",
       "      <td>0</td>\n",
       "      <td>2</td>\n",
       "      <td>2094</td>\n",
       "      <td>136</td>\n",
       "      <td>3</td>\n",
       "    </tr>\n",
       "    <tr>\n",
       "      <th>3</th>\n",
       "      <td>6</td>\n",
       "      <td>620860</td>\n",
       "      <td>777</td>\n",
       "      <td>161</td>\n",
       "      <td>153</td>\n",
       "      <td>2119</td>\n",
       "      <td>262</td>\n",
       "      <td>8</td>\n",
       "    </tr>\n",
       "    <tr>\n",
       "      <th>4</th>\n",
       "      <td>1</td>\n",
       "      <td>666</td>\n",
       "      <td>1</td>\n",
       "      <td>0</td>\n",
       "      <td>0</td>\n",
       "      <td>2091</td>\n",
       "      <td>31</td>\n",
       "      <td>4</td>\n",
       "    </tr>\n",
       "  </tbody>\n",
       "</table>\n",
       "</div>"
      ],
      "text/plain": [
       "   adview    views  likes  dislikes  comment  published  duration  category\n",
       "0      40  1031602   8523       363     1095       2168       457         6\n",
       "1       2     1707     56         2        6       2185       570         4\n",
       "2       1     2023     25         0        2       2094       136         3\n",
       "3       6   620860    777       161      153       2119       262         8\n",
       "4       1      666      1         0        0       2091        31         4"
      ]
     },
     "execution_count": 77,
     "metadata": {},
     "output_type": "execute_result"
    }
   ],
   "source": [
    "df['duration'] = time1\n",
    "df.head()"
   ]
  },
  {
   "cell_type": "code",
   "execution_count": 78,
   "metadata": {},
   "outputs": [
    {
     "data": {
      "image/png": "[encoded data removed]",
      "text/plain": [
       "<Figure size 1000x800 with 2 Axes>"
      ]
     },
     "metadata": {},
     "output_type": "display_data"
    }
   ],
   "source": [
    "corr = df.corr()\n",
    "plt.figure(figsize=(10, 8))\n",
    "sns.heatmap(corr, annot=True)\n",
    "plt.show()\n",
    "\n"
   ]
  },
  {
   "cell_type": "code",
   "execution_count": 79,
   "metadata": {},
   "outputs": [
    {
     "data": {
      "text/html": [
       "<div>\n",
       "<style scoped>\n",
       "    .dataframe tbody tr th:only-of-type {\n",
       "        vertical-align: middle;\n",
       "    }\n",
       "\n",
       "    .dataframe tbody tr th {\n",
       "        vertical-align: top;\n",
       "    }\n",
       "\n",
       "    .dataframe thead th {\n",
       "        text-align: right;\n",
       "    }\n",
       "</style>\n",
       "<table border=\"1\" class=\"dataframe\">\n",
       "  <thead>\n",
       "    <tr style=\"text-align: right;\">\n",
       "      <th></th>\n",
       "      <th>adview</th>\n",
       "      <th>views</th>\n",
       "      <th>likes</th>\n",
       "      <th>dislikes</th>\n",
       "      <th>comment</th>\n",
       "      <th>published</th>\n",
       "      <th>duration</th>\n",
       "      <th>category</th>\n",
       "    </tr>\n",
       "  </thead>\n",
       "  <tbody>\n",
       "    <tr>\n",
       "      <th>adview</th>\n",
       "      <td>1.000000</td>\n",
       "      <td>0.031177</td>\n",
       "      <td>0.046541</td>\n",
       "      <td>0.016686</td>\n",
       "      <td>0.017631</td>\n",
       "      <td>0.055657</td>\n",
       "      <td>-0.019592</td>\n",
       "      <td>-0.004910</td>\n",
       "    </tr>\n",
       "    <tr>\n",
       "      <th>views</th>\n",
       "      <td>0.031177</td>\n",
       "      <td>1.000000</td>\n",
       "      <td>0.726599</td>\n",
       "      <td>0.730216</td>\n",
       "      <td>0.410597</td>\n",
       "      <td>0.020110</td>\n",
       "      <td>0.002563</td>\n",
       "      <td>0.032822</td>\n",
       "    </tr>\n",
       "    <tr>\n",
       "      <th>likes</th>\n",
       "      <td>0.046541</td>\n",
       "      <td>0.726599</td>\n",
       "      <td>1.000000</td>\n",
       "      <td>0.648631</td>\n",
       "      <td>0.651215</td>\n",
       "      <td>0.096941</td>\n",
       "      <td>-0.042518</td>\n",
       "      <td>-0.009175</td>\n",
       "    </tr>\n",
       "    <tr>\n",
       "      <th>dislikes</th>\n",
       "      <td>0.016686</td>\n",
       "      <td>0.730216</td>\n",
       "      <td>0.648631</td>\n",
       "      <td>1.000000</td>\n",
       "      <td>0.532588</td>\n",
       "      <td>0.043745</td>\n",
       "      <td>0.001587</td>\n",
       "      <td>0.011355</td>\n",
       "    </tr>\n",
       "    <tr>\n",
       "      <th>comment</th>\n",
       "      <td>0.017631</td>\n",
       "      <td>0.410597</td>\n",
       "      <td>0.651215</td>\n",
       "      <td>0.532588</td>\n",
       "      <td>1.000000</td>\n",
       "      <td>0.114253</td>\n",
       "      <td>-0.037478</td>\n",
       "      <td>-0.034107</td>\n",
       "    </tr>\n",
       "    <tr>\n",
       "      <th>published</th>\n",
       "      <td>0.055657</td>\n",
       "      <td>0.020110</td>\n",
       "      <td>0.096941</td>\n",
       "      <td>0.043745</td>\n",
       "      <td>0.114253</td>\n",
       "      <td>1.000000</td>\n",
       "      <td>0.011976</td>\n",
       "      <td>-0.056814</td>\n",
       "    </tr>\n",
       "    <tr>\n",
       "      <th>duration</th>\n",
       "      <td>-0.019592</td>\n",
       "      <td>0.002563</td>\n",
       "      <td>-0.042518</td>\n",
       "      <td>0.001587</td>\n",
       "      <td>-0.037478</td>\n",
       "      <td>0.011976</td>\n",
       "      <td>1.000000</td>\n",
       "      <td>0.049235</td>\n",
       "    </tr>\n",
       "    <tr>\n",
       "      <th>category</th>\n",
       "      <td>-0.004910</td>\n",
       "      <td>0.032822</td>\n",
       "      <td>-0.009175</td>\n",
       "      <td>0.011355</td>\n",
       "      <td>-0.034107</td>\n",
       "      <td>-0.056814</td>\n",
       "      <td>0.049235</td>\n",
       "      <td>1.000000</td>\n",
       "    </tr>\n",
       "  </tbody>\n",
       "</table>\n",
       "</div>"
      ],
      "text/plain": [
       "             adview     views     likes  dislikes   comment  published  \\\n",
       "adview     1.000000  0.031177  0.046541  0.016686  0.017631   0.055657   \n",
       "views      0.031177  1.000000  0.726599  0.730216  0.410597   0.020110   \n",
       "likes      0.046541  0.726599  1.000000  0.648631  0.651215   0.096941   \n",
       "dislikes   0.016686  0.730216  0.648631  1.000000  0.532588   0.043745   \n",
       "comment    0.017631  0.410597  0.651215  0.532588  1.000000   0.114253   \n",
       "published  0.055657  0.020110  0.096941  0.043745  0.114253   1.000000   \n",
       "duration  -0.019592  0.002563 -0.042518  0.001587 -0.037478   0.011976   \n",
       "category  -0.004910  0.032822 -0.009175  0.011355 -0.034107  -0.056814   \n",
       "\n",
       "           duration  category  \n",
       "adview    -0.019592 -0.004910  \n",
       "views      0.002563  0.032822  \n",
       "likes     -0.042518 -0.009175  \n",
       "dislikes   0.001587  0.011355  \n",
       "comment   -0.037478 -0.034107  \n",
       "published  0.011976 -0.056814  \n",
       "duration   1.000000  0.049235  \n",
       "category   0.049235  1.000000  "
      ]
     },
     "execution_count": 79,
     "metadata": {},
     "output_type": "execute_result"
    }
   ],
   "source": [
    "corr"
   ]
  },
  {
   "cell_type": "code",
   "execution_count": 80,
   "metadata": {},
   "outputs": [],
   "source": [
    "df = df.drop(['category'], axis=1)"
   ]
  },
  {
   "cell_type": "code",
   "execution_count": 81,
   "metadata": {},
   "outputs": [],
   "source": [
    "min_max_scaler = MinMaxScaler()\n",
    "df1 = df\n",
    "md = min_max_scaler.fit(df1.iloc[1 : ])\n",
    "scaled_data = md.transform(df1.iloc[1 : ])\n",
    "df1 = pd.DataFrame(scaled_data)"
   ]
  },
  {
   "cell_type": "code",
   "execution_count": 82,
   "metadata": {},
   "outputs": [
    {
     "data": {
      "text/html": [
       "<div>\n",
       "<style scoped>\n",
       "    .dataframe tbody tr th:only-of-type {\n",
       "        vertical-align: middle;\n",
       "    }\n",
       "\n",
       "    .dataframe tbody tr th {\n",
       "        vertical-align: top;\n",
       "    }\n",
       "\n",
       "    .dataframe thead th {\n",
       "        text-align: right;\n",
       "    }\n",
       "</style>\n",
       "<table border=\"1\" class=\"dataframe\">\n",
       "  <thead>\n",
       "    <tr style=\"text-align: right;\">\n",
       "      <th></th>\n",
       "      <th>adview</th>\n",
       "      <th>views</th>\n",
       "      <th>likes</th>\n",
       "      <th>dislikes</th>\n",
       "      <th>comment</th>\n",
       "      <th>published</th>\n",
       "      <th>duration</th>\n",
       "    </tr>\n",
       "  </thead>\n",
       "  <tbody>\n",
       "    <tr>\n",
       "      <th>0</th>\n",
       "      <td>6.313749e-07</td>\n",
       "      <td>1.201033e-05</td>\n",
       "      <td>0.000197</td>\n",
       "      <td>0.000040</td>\n",
       "      <td>0.000080</td>\n",
       "      <td>0.916911</td>\n",
       "      <td>0.013470</td>\n",
       "    </tr>\n",
       "    <tr>\n",
       "      <th>1</th>\n",
       "      <td>0.000000e+00</td>\n",
       "      <td>1.429939e-05</td>\n",
       "      <td>0.000088</td>\n",
       "      <td>0.000000</td>\n",
       "      <td>0.000027</td>\n",
       "      <td>0.878724</td>\n",
       "      <td>0.003214</td>\n",
       "    </tr>\n",
       "    <tr>\n",
       "      <th>2</th>\n",
       "      <td>3.156875e-06</td>\n",
       "      <td>4.497072e-03</td>\n",
       "      <td>0.002738</td>\n",
       "      <td>0.003256</td>\n",
       "      <td>0.002039</td>\n",
       "      <td>0.889215</td>\n",
       "      <td>0.006191</td>\n",
       "    </tr>\n",
       "    <tr>\n",
       "      <th>3</th>\n",
       "      <td>0.000000e+00</td>\n",
       "      <td>4.469466e-06</td>\n",
       "      <td>0.000004</td>\n",
       "      <td>0.000000</td>\n",
       "      <td>0.000000</td>\n",
       "      <td>0.877465</td>\n",
       "      <td>0.000733</td>\n",
       "    </tr>\n",
       "    <tr>\n",
       "      <th>4</th>\n",
       "      <td>1.894125e-06</td>\n",
       "      <td>2.100721e-07</td>\n",
       "      <td>0.000000</td>\n",
       "      <td>0.000000</td>\n",
       "      <td>0.000000</td>\n",
       "      <td>0.856064</td>\n",
       "      <td>0.000354</td>\n",
       "    </tr>\n",
       "  </tbody>\n",
       "</table>\n",
       "</div>"
      ],
      "text/plain": [
       "         adview         views     likes  dislikes   comment  published  \\\n",
       "0  6.313749e-07  1.201033e-05  0.000197  0.000040  0.000080   0.916911   \n",
       "1  0.000000e+00  1.429939e-05  0.000088  0.000000  0.000027   0.878724   \n",
       "2  3.156875e-06  4.497072e-03  0.002738  0.003256  0.002039   0.889215   \n",
       "3  0.000000e+00  4.469466e-06  0.000004  0.000000  0.000000   0.877465   \n",
       "4  1.894125e-06  2.100721e-07  0.000000  0.000000  0.000000   0.856064   \n",
       "\n",
       "   duration  \n",
       "0  0.013470  \n",
       "1  0.003214  \n",
       "2  0.006191  \n",
       "3  0.000733  \n",
       "4  0.000354  "
      ]
     },
     "execution_count": 82,
     "metadata": {},
     "output_type": "execute_result"
    }
   ],
   "source": [
    "cols = list(df.columns)\n",
    "for i in range(0, 7):\n",
    "    df1.rename(columns={i : cols[i]}, inplace=True)\n",
    "df1.head()"
   ]
  },
  {
   "cell_type": "code",
   "execution_count": 83,
   "metadata": {},
   "outputs": [],
   "source": [
    "x = df1.drop(['adview'], axis=1)\n",
    "y = df1['adview']"
   ]
  },
  {
   "cell_type": "code",
   "execution_count": 84,
   "metadata": {},
   "outputs": [
    {
     "data": {
      "text/plain": [
       "((14635, 6), (14635,))"
      ]
     },
     "execution_count": 84,
     "metadata": {},
     "output_type": "execute_result"
    }
   ],
   "source": [
    "x.shape, y.shape"
   ]
  },
  {
   "cell_type": "code",
   "execution_count": 85,
   "metadata": {},
   "outputs": [],
   "source": [
    "x_train, x_test, y_train, y_test = train_test_split(x, y, test_size=0.2, random_state=42)"
   ]
  },
  {
   "cell_type": "code",
   "execution_count": 86,
   "metadata": {},
   "outputs": [
    {
     "data": {
      "text/plain": [
       "((11708, 6), (2927, 6), (11708,), (2927,))"
      ]
     },
     "execution_count": 86,
     "metadata": {},
     "output_type": "execute_result"
    }
   ],
   "source": [
    "x_train.shape, x_test.shape, y_train.shape, y_test.shape"
   ]
  },
  {
   "cell_type": "code",
   "execution_count": 87,
   "metadata": {},
   "outputs": [],
   "source": [
    "def print_error(x_test, y_test, model_name):\n",
    "    preds = model_name.predict(x_test)\n",
    "    print(\"Mean Squared Error =\", mean_squared_error(y_test, preds))\n",
    "    print(\"Mean Absolute Error =\", mean_absolute_error(y_test, preds))\n",
    "    print(\"Root Mean Squared Error =\", np.sqrt(mean_squared_error(y_test, preds)))\n"
   ]
  },
  {
   "cell_type": "code",
   "execution_count": 88,
   "metadata": {},
   "outputs": [],
   "source": [
    "linear_model = LinearRegression()\n",
    "svr_model = SVR()\n",
    "decision_tree_model = DecisionTreeRegressor()\n",
    "random_forest_model = RandomForestRegressor()"
   ]
  },
  {
   "cell_type": "code",
   "execution_count": 89,
   "metadata": {},
   "outputs": [
    {
     "data": {
      "text/html": [
       "<style>#sk-container-id-1 {color: black;}#sk-container-id-1 pre{padding: 0;}#sk-container-id-1 div.sk-toggleable {background-color: white;}#sk-container-id-1 label.sk-toggleable__label {cursor: pointer;display: block;width: 100%;margin-bottom: 0;padding: 0.3em;box-sizing: border-box;text-align: center;}#sk-container-id-1 label.sk-toggleable__label-arrow:before {content: \"▸\";float: left;margin-right: 0.25em;color: #696969;}#sk-container-id-1 label.sk-toggleable__label-arrow:hover:before {color: black;}#sk-container-id-1 div.sk-estimator:hover label.sk-toggleable__label-arrow:before {color: black;}#sk-container-id-1 div.sk-toggleable__content {max-height: 0;max-width: 0;overflow: hidden;text-align: left;background-color: #f0f8ff;}#sk-container-id-1 div.sk-toggleable__content pre {margin: 0.2em;color: black;border-radius: 0.25em;background-color: #f0f8ff;}#sk-container-id-1 input.sk-toggleable__control:checked~div.sk-toggleable__content {max-height: 200px;max-width: 100%;overflow: auto;}#sk-container-id-1 input.sk-toggleable__control:checked~label.sk-toggleable__label-arrow:before {content: \"▾\";}#sk-container-id-1 div.sk-estimator input.sk-toggleable__control:checked~label.sk-toggleable__label {background-color: #d4ebff;}#sk-container-id-1 div.sk-label input.sk-toggleable__control:checked~label.sk-toggleable__label {background-color: #d4ebff;}#sk-container-id-1 input.sk-hidden--visually {border: 0;clip: rect(1px 1px 1px 1px);clip: rect(1px, 1px, 1px, 1px);height: 1px;margin: -1px;overflow: hidden;padding: 0;position: absolute;width: 1px;}#sk-container-id-1 div.sk-estimator {font-family: monospace;background-color: #f0f8ff;border: 1px dotted black;border-radius: 0.25em;box-sizing: border-box;margin-bottom: 0.5em;}#sk-container-id-1 div.sk-estimator:hover {background-color: #d4ebff;}#sk-container-id-1 div.sk-parallel-item::after {content: \"\";width: 100%;border-bottom: 1px solid gray;flex-grow: 1;}#sk-container-id-1 div.sk-label:hover label.sk-toggleable__label {background-color: #d4ebff;}#sk-container-id-1 div.sk-serial::before {content: \"\";position: absolute;border-left: 1px solid gray;box-sizing: border-box;top: 0;bottom: 0;left: 50%;z-index: 0;}#sk-container-id-1 div.sk-serial {display: flex;flex-direction: column;align-items: center;background-color: white;padding-right: 0.2em;padding-left: 0.2em;position: relative;}#sk-container-id-1 div.sk-item {position: relative;z-index: 1;}#sk-container-id-1 div.sk-parallel {display: flex;align-items: stretch;justify-content: center;background-color: white;position: relative;}#sk-container-id-1 div.sk-item::before, #sk-container-id-1 div.sk-parallel-item::before {content: \"\";position: absolute;border-left: 1px solid gray;box-sizing: border-box;top: 0;bottom: 0;left: 50%;z-index: -1;}#sk-container-id-1 div.sk-parallel-item {display: flex;flex-direction: column;z-index: 1;position: relative;background-color: white;}#sk-container-id-1 div.sk-parallel-item:first-child::after {align-self: flex-end;width: 50%;}#sk-container-id-1 div.sk-parallel-item:last-child::after {align-self: flex-start;width: 50%;}#sk-container-id-1 div.sk-parallel-item:only-child::after {width: 0;}#sk-container-id-1 div.sk-dashed-wrapped {border: 1px dashed gray;margin: 0 0.4em 0.5em 0.4em;box-sizing: border-box;padding-bottom: 0.4em;background-color: white;}#sk-container-id-1 div.sk-label label {font-family: monospace;font-weight: bold;display: inline-block;line-height: 1.2em;}#sk-container-id-1 div.sk-label-container {text-align: center;}#sk-container-id-1 div.sk-container {/* jupyter's `normalize.less` sets `[hidden] { display: none; }` but bootstrap.min.css set `[hidden] { display: none !important; }` so we also need the `!important` here to be able to override the default hidden behavior on the sphinx rendered scikit-learn.org. See: https://github.com/scikit-learn/scikit-learn/issues/21755 */display: inline-block !important;position: relative;}#sk-container-id-1 div.sk-text-repr-fallback {display: none;}</style><div id=\"sk-container-id-1\" class=\"sk-top-container\"><div class=\"sk-text-repr-fallback\"><pre>RandomForestRegressor()</pre><b>In a Jupyter environment, please rerun this cell to show the HTML representation or trust the notebook. <br />On GitHub, the HTML representation is unable to render, please try loading this page with nbviewer.org.</b></div><div class=\"sk-container\" hidden><div class=\"sk-item\"><div class=\"sk-estimator sk-toggleable\"><input class=\"sk-toggleable__control sk-hidden--visually\" id=\"sk-estimator-id-1\" type=\"checkbox\" checked><label for=\"sk-estimator-id-1\" class=\"sk-toggleable__label sk-toggleable__label-arrow\">RandomForestRegressor</label><div class=\"sk-toggleable__content\"><pre>RandomForestRegressor()</pre></div></div></div></div></div>"
      ],
      "text/plain": [
       "RandomForestRegressor()"
      ]
     },
     "execution_count": 89,
     "metadata": {},
     "output_type": "execute_result"
    }
   ],
   "source": [
    "linear_model.fit(x_train, y_train)\n",
    "svr_model.fit(x_train, y_train)\n",
    "decision_tree_model.fit(x_train, y_train)\n",
    "random_forest_model.fit(x_train, y_train)"
   ]
  },
  {
   "cell_type": "code",
   "execution_count": 90,
   "metadata": {},
   "outputs": [
    {
     "name": "stdout",
     "output_type": "stream",
     "text": [
      "Linear Regressor :\n",
      "Mean Squared Error = 0.0004090128956241905\n",
      "Mean Absolute Error = 0.0023822528493513857\n",
      "Root Mean Squared Error = 0.0202240672374325\n",
      "---------------------------------\n",
      "Support Vector Regressor :\n",
      "Mean Squared Error = 0.009347221463992684\n",
      "Mean Absolute Error = 0.09544448257762955\n",
      "Root Mean Squared Error = 0.09668102949386029\n",
      "---------------------------------\n",
      "Decision Tree Regressor :\n",
      "Mean Squared Error = 0.000616774832267789\n",
      "Mean Absolute Error = 0.002035694009586111\n",
      "Root Mean Squared Error = 0.02483495182737001\n",
      "---------------------------------\n",
      "Random Forest Regressor :\n",
      "Mean Squared Error = 0.00038806980695768416\n",
      "Mean Absolute Error = 0.0018676418569655983\n",
      "Root Mean Squared Error = 0.019699487479568706\n"
     ]
    }
   ],
   "source": [
    "print(\"Linear Regressor :\")\n",
    "print_error(x_test, y_test, linear_model)\n",
    "print(\"---------------------------------\")\n",
    "print(\"Support Vector Regressor :\")\n",
    "print_error(x_test, y_test, svr_model)\n",
    "print(\"---------------------------------\")\n",
    "print(\"Decision Tree Regressor :\")\n",
    "print_error(x_test, y_test, decision_tree_model)\n",
    "print(\"---------------------------------\")\n",
    "print(\"Random Forest Regressor :\")\n",
    "print_error(x_test, y_test, random_forest_model)"
   ]
  },
  {
   "cell_type": "code",
   "execution_count": 91,
   "metadata": {},
   "outputs": [
    {
     "name": "stdout",
     "output_type": "stream",
     "text": [
      "WARNING:tensorflow:From c:\\Users\\ManavSahayJSR\\anaconda3\\Lib\\site-packages\\keras\\src\\backend.py:873: The name tf.get_default_graph is deprecated. Please use tf.compat.v1.get_default_graph instead.\n",
      "\n"
     ]
    }
   ],
   "source": [
    "ann = keras.models.Sequential([\n",
    "    Dense(6, activation='relu', input_shape=x_train.shape[1 :]),\n",
    "    Dense(6, activation='relu'),\n",
    "    Dense(1)\n",
    "])\n",
    "optimizer = keras.optimizers.Adam()\n",
    "loss = keras.losses.mean_squared_error\n",
    "ann.compile(optimizer=optimizer, loss=loss, metrics=['mean_squared_error'])"
   ]
  },
  {
   "cell_type": "code",
   "execution_count": 92,
   "metadata": {},
   "outputs": [
    {
     "name": "stdout",
     "output_type": "stream",
     "text": [
      "Epoch 1/100\n",
      "WARNING:tensorflow:From c:\\Users\\ManavSahayJSR\\anaconda3\\Lib\\site-packages\\keras\\src\\utils\\tf_utils.py:492: The name tf.ragged.RaggedTensorValue is deprecated. Please use tf.compat.v1.ragged.RaggedTensorValue instead.\n",
      "\n",
      "WARNING:tensorflow:From c:\\Users\\ManavSahayJSR\\anaconda3\\Lib\\site-packages\\keras\\src\\engine\\base_layer_utils.py:384: The name tf.executing_eagerly_outside_functions is deprecated. Please use tf.compat.v1.executing_eagerly_outside_functions instead.\n",
      "\n",
      "366/366 [==============================] - 2s 2ms/step - loss: 5.3560e-04 - mean_squared_error: 5.3560e-04\n",
      "Epoch 2/100\n",
      "366/366 [==============================] - 1s 2ms/step - loss: 2.9714e-04 - mean_squared_error: 2.9714e-04\n",
      "Epoch 3/100\n",
      "366/366 [==============================] - 1s 2ms/step - loss: 2.9203e-04 - mean_squared_error: 2.9203e-04\n",
      "Epoch 4/100\n",
      "366/366 [==============================] - 1s 2ms/step - loss: 2.8907e-04 - mean_squared_error: 2.8907e-04\n",
      "Epoch 5/100\n",
      "366/366 [==============================] - 1s 2ms/step - loss: 2.8779e-04 - mean_squared_error: 2.8779e-04\n",
      "Epoch 6/100\n",
      "366/366 [==============================] - 1s 2ms/step - loss: 2.8736e-04 - mean_squared_error: 2.8736e-04\n",
      "Epoch 7/100\n",
      "366/366 [==============================] - 1s 2ms/step - loss: 2.8771e-04 - mean_squared_error: 2.8771e-04\n",
      "Epoch 8/100\n",
      "366/366 [==============================] - 1s 2ms/step - loss: 2.8720e-04 - mean_squared_error: 2.8720e-04\n",
      "Epoch 9/100\n",
      "366/366 [==============================] - 1s 2ms/step - loss: 2.8686e-04 - mean_squared_error: 2.8686e-04\n",
      "Epoch 10/100\n",
      "366/366 [==============================] - 1s 2ms/step - loss: 2.8755e-04 - mean_squared_error: 2.8755e-04\n",
      "Epoch 11/100\n",
      "366/366 [==============================] - 1s 2ms/step - loss: 2.8829e-04 - mean_squared_error: 2.8829e-04\n",
      "Epoch 12/100\n",
      "366/366 [==============================] - 1s 2ms/step - loss: 2.8637e-04 - mean_squared_error: 2.8637e-04\n",
      "Epoch 13/100\n",
      "366/366 [==============================] - 1s 1ms/step - loss: 2.8794e-04 - mean_squared_error: 2.8794e-04\n",
      "Epoch 14/100\n",
      "366/366 [==============================] - 1s 1ms/step - loss: 2.8661e-04 - mean_squared_error: 2.8661e-04\n",
      "Epoch 15/100\n",
      "366/366 [==============================] - 0s 1ms/step - loss: 2.8761e-04 - mean_squared_error: 2.8761e-04\n",
      "Epoch 16/100\n",
      "366/366 [==============================] - 1s 1ms/step - loss: 2.8655e-04 - mean_squared_error: 2.8655e-04\n",
      "Epoch 17/100\n",
      "366/366 [==============================] - 1s 2ms/step - loss: 2.8693e-04 - mean_squared_error: 2.8693e-04\n",
      "Epoch 18/100\n",
      "366/366 [==============================] - 1s 2ms/step - loss: 2.8661e-04 - mean_squared_error: 2.8661e-04\n",
      "Epoch 19/100\n",
      "366/366 [==============================] - 1s 1ms/step - loss: 2.8663e-04 - mean_squared_error: 2.8663e-04\n",
      "Epoch 20/100\n",
      "366/366 [==============================] - 1s 1ms/step - loss: 2.8780e-04 - mean_squared_error: 2.8780e-04\n",
      "Epoch 21/100\n",
      "366/366 [==============================] - 1s 1ms/step - loss: 2.8759e-04 - mean_squared_error: 2.8759e-04\n",
      "Epoch 22/100\n",
      "366/366 [==============================] - 1s 2ms/step - loss: 2.8752e-04 - mean_squared_error: 2.8752e-04\n",
      "Epoch 23/100\n",
      "366/366 [==============================] - 1s 1ms/step - loss: 2.8702e-04 - mean_squared_error: 2.8702e-04\n",
      "Epoch 24/100\n",
      "366/366 [==============================] - 1s 1ms/step - loss: 2.8689e-04 - mean_squared_error: 2.8689e-04\n",
      "Epoch 25/100\n",
      "366/366 [==============================] - 1s 2ms/step - loss: 2.8678e-04 - mean_squared_error: 2.8678e-04\n",
      "Epoch 26/100\n",
      "366/366 [==============================] - 1s 2ms/step - loss: 2.8672e-04 - mean_squared_error: 2.8672e-04\n",
      "Epoch 27/100\n",
      "366/366 [==============================] - 1s 1ms/step - loss: 2.8777e-04 - mean_squared_error: 2.8777e-04\n",
      "Epoch 28/100\n",
      "366/366 [==============================] - 0s 1ms/step - loss: 2.8594e-04 - mean_squared_error: 2.8594e-04\n",
      "Epoch 29/100\n",
      "366/366 [==============================] - 0s 1ms/step - loss: 2.8644e-04 - mean_squared_error: 2.8644e-04\n",
      "Epoch 30/100\n",
      "366/366 [==============================] - 0s 1ms/step - loss: 2.8598e-04 - mean_squared_error: 2.8598e-04\n",
      "Epoch 31/100\n",
      "366/366 [==============================] - 0s 1ms/step - loss: 2.8651e-04 - mean_squared_error: 2.8651e-04\n",
      "Epoch 32/100\n",
      "366/366 [==============================] - 0s 1ms/step - loss: 2.8543e-04 - mean_squared_error: 2.8543e-04\n",
      "Epoch 33/100\n",
      "366/366 [==============================] - 1s 1ms/step - loss: 2.8604e-04 - mean_squared_error: 2.8604e-04\n",
      "Epoch 34/100\n",
      "366/366 [==============================] - 0s 1ms/step - loss: 2.8512e-04 - mean_squared_error: 2.8512e-04\n",
      "Epoch 35/100\n",
      "366/366 [==============================] - 1s 1ms/step - loss: 2.8605e-04 - mean_squared_error: 2.8605e-04\n",
      "Epoch 36/100\n",
      "366/366 [==============================] - 0s 1ms/step - loss: 2.8588e-04 - mean_squared_error: 2.8588e-04\n",
      "Epoch 37/100\n",
      "366/366 [==============================] - 0s 1ms/step - loss: 2.8566e-04 - mean_squared_error: 2.8566e-04\n",
      "Epoch 38/100\n",
      "366/366 [==============================] - 0s 1ms/step - loss: 2.8596e-04 - mean_squared_error: 2.8596e-04\n",
      "Epoch 39/100\n",
      "366/366 [==============================] - 0s 1ms/step - loss: 2.8538e-04 - mean_squared_error: 2.8538e-04\n",
      "Epoch 40/100\n",
      "366/366 [==============================] - 1s 1ms/step - loss: 2.8646e-04 - mean_squared_error: 2.8646e-04\n",
      "Epoch 41/100\n",
      "366/366 [==============================] - 1s 1ms/step - loss: 2.8497e-04 - mean_squared_error: 2.8497e-04\n",
      "Epoch 42/100\n",
      "366/366 [==============================] - 0s 1ms/step - loss: 2.8566e-04 - mean_squared_error: 2.8566e-04\n",
      "Epoch 43/100\n",
      "366/366 [==============================] - 0s 1ms/step - loss: 2.8461e-04 - mean_squared_error: 2.8461e-04\n",
      "Epoch 44/100\n",
      "366/366 [==============================] - 1s 1ms/step - loss: 2.8714e-04 - mean_squared_error: 2.8714e-04\n",
      "Epoch 45/100\n",
      "366/366 [==============================] - 0s 1ms/step - loss: 2.8580e-04 - mean_squared_error: 2.8580e-04\n",
      "Epoch 46/100\n",
      "366/366 [==============================] - 1s 1ms/step - loss: 2.8518e-04 - mean_squared_error: 2.8518e-04\n",
      "Epoch 47/100\n",
      "366/366 [==============================] - 0s 1ms/step - loss: 2.8576e-04 - mean_squared_error: 2.8576e-04\n",
      "Epoch 48/100\n",
      "366/366 [==============================] - 0s 1ms/step - loss: 2.8572e-04 - mean_squared_error: 2.8572e-04\n",
      "Epoch 49/100\n",
      "366/366 [==============================] - 0s 1ms/step - loss: 2.8456e-04 - mean_squared_error: 2.8456e-04\n",
      "Epoch 50/100\n",
      "366/366 [==============================] - 0s 1ms/step - loss: 2.8484e-04 - mean_squared_error: 2.8484e-04\n",
      "Epoch 51/100\n",
      "366/366 [==============================] - 1s 1ms/step - loss: 2.8539e-04 - mean_squared_error: 2.8539e-04\n",
      "Epoch 52/100\n",
      "366/366 [==============================] - 0s 1ms/step - loss: 2.8499e-04 - mean_squared_error: 2.8499e-04\n",
      "Epoch 53/100\n",
      "366/366 [==============================] - 0s 1ms/step - loss: 2.8498e-04 - mean_squared_error: 2.8498e-04\n",
      "Epoch 54/100\n",
      "366/366 [==============================] - 0s 1ms/step - loss: 2.8490e-04 - mean_squared_error: 2.8490e-04\n",
      "Epoch 55/100\n",
      "366/366 [==============================] - 1s 3ms/step - loss: 2.8485e-04 - mean_squared_error: 2.8485e-04\n",
      "Epoch 56/100\n",
      "366/366 [==============================] - 1s 2ms/step - loss: 2.8472e-04 - mean_squared_error: 2.8472e-04\n",
      "Epoch 57/100\n",
      "366/366 [==============================] - 1s 2ms/step - loss: 2.8516e-04 - mean_squared_error: 2.8516e-04\n",
      "Epoch 58/100\n",
      "366/366 [==============================] - 1s 2ms/step - loss: 2.8512e-04 - mean_squared_error: 2.8512e-04\n",
      "Epoch 59/100\n",
      "366/366 [==============================] - 1s 2ms/step - loss: 2.8449e-04 - mean_squared_error: 2.8449e-04\n",
      "Epoch 60/100\n",
      "366/366 [==============================] - 1s 2ms/step - loss: 2.8443e-04 - mean_squared_error: 2.8443e-04\n",
      "Epoch 61/100\n",
      "366/366 [==============================] - 1s 1ms/step - loss: 2.8498e-04 - mean_squared_error: 2.8498e-04\n",
      "Epoch 62/100\n",
      "366/366 [==============================] - 1s 2ms/step - loss: 2.8471e-04 - mean_squared_error: 2.8471e-04\n",
      "Epoch 63/100\n",
      "366/366 [==============================] - 1s 2ms/step - loss: 2.8404e-04 - mean_squared_error: 2.8404e-04\n",
      "Epoch 64/100\n",
      "366/366 [==============================] - 1s 1ms/step - loss: 2.8457e-04 - mean_squared_error: 2.8457e-04\n",
      "Epoch 65/100\n",
      "366/366 [==============================] - 1s 1ms/step - loss: 2.8506e-04 - mean_squared_error: 2.8506e-04\n",
      "Epoch 66/100\n",
      "366/366 [==============================] - 1s 2ms/step - loss: 2.8479e-04 - mean_squared_error: 2.8479e-04\n",
      "Epoch 67/100\n",
      "366/366 [==============================] - 1s 1ms/step - loss: 2.8417e-04 - mean_squared_error: 2.8417e-04\n",
      "Epoch 68/100\n",
      "366/366 [==============================] - 1s 2ms/step - loss: 2.8513e-04 - mean_squared_error: 2.8513e-04\n",
      "Epoch 69/100\n",
      "366/366 [==============================] - 1s 2ms/step - loss: 2.8484e-04 - mean_squared_error: 2.8484e-04\n",
      "Epoch 70/100\n",
      "366/366 [==============================] - 1s 2ms/step - loss: 2.8276e-04 - mean_squared_error: 2.8276e-04\n",
      "Epoch 71/100\n",
      "366/366 [==============================] - 1s 2ms/step - loss: 2.8443e-04 - mean_squared_error: 2.8443e-04\n",
      "Epoch 72/100\n",
      "366/366 [==============================] - 1s 2ms/step - loss: 2.8447e-04 - mean_squared_error: 2.8447e-04\n",
      "Epoch 73/100\n",
      "366/366 [==============================] - 1s 2ms/step - loss: 2.8492e-04 - mean_squared_error: 2.8492e-04\n",
      "Epoch 74/100\n",
      "366/366 [==============================] - 1s 2ms/step - loss: 2.8444e-04 - mean_squared_error: 2.8444e-04\n",
      "Epoch 75/100\n",
      "366/366 [==============================] - 1s 2ms/step - loss: 2.8370e-04 - mean_squared_error: 2.8370e-04\n",
      "Epoch 76/100\n",
      "366/366 [==============================] - 1s 2ms/step - loss: 2.8455e-04 - mean_squared_error: 2.8455e-04\n",
      "Epoch 77/100\n",
      "366/366 [==============================] - 1s 2ms/step - loss: 2.8566e-04 - mean_squared_error: 2.8566e-04\n",
      "Epoch 78/100\n",
      "366/366 [==============================] - 1s 2ms/step - loss: 2.8499e-04 - mean_squared_error: 2.8499e-04\n",
      "Epoch 79/100\n",
      "366/366 [==============================] - 1s 2ms/step - loss: 2.8330e-04 - mean_squared_error: 2.8330e-04\n",
      "Epoch 80/100\n",
      "366/366 [==============================] - 1s 2ms/step - loss: 2.8396e-04 - mean_squared_error: 2.8396e-04\n",
      "Epoch 81/100\n",
      "366/366 [==============================] - 1s 2ms/step - loss: 2.8592e-04 - mean_squared_error: 2.8592e-04\n",
      "Epoch 82/100\n",
      "366/366 [==============================] - 1s 2ms/step - loss: 2.8446e-04 - mean_squared_error: 2.8446e-04\n",
      "Epoch 83/100\n",
      "366/366 [==============================] - 1s 2ms/step - loss: 2.8399e-04 - mean_squared_error: 2.8399e-04\n",
      "Epoch 84/100\n",
      "366/366 [==============================] - 1s 2ms/step - loss: 2.8467e-04 - mean_squared_error: 2.8467e-04\n",
      "Epoch 85/100\n",
      "366/366 [==============================] - 1s 2ms/step - loss: 2.8347e-04 - mean_squared_error: 2.8347e-04\n",
      "Epoch 86/100\n",
      "366/366 [==============================] - 1s 1ms/step - loss: 2.8383e-04 - mean_squared_error: 2.8383e-04\n",
      "Epoch 87/100\n",
      "366/366 [==============================] - 1s 2ms/step - loss: 2.8318e-04 - mean_squared_error: 2.8318e-04\n",
      "Epoch 88/100\n",
      "366/366 [==============================] - 1s 1ms/step - loss: 2.8382e-04 - mean_squared_error: 2.8382e-04\n",
      "Epoch 89/100\n",
      "366/366 [==============================] - 1s 2ms/step - loss: 2.8425e-04 - mean_squared_error: 2.8425e-04\n",
      "Epoch 90/100\n",
      "366/366 [==============================] - 1s 2ms/step - loss: 2.8349e-04 - mean_squared_error: 2.8349e-04\n",
      "Epoch 91/100\n",
      "366/366 [==============================] - 1s 2ms/step - loss: 2.8378e-04 - mean_squared_error: 2.8378e-04\n",
      "Epoch 92/100\n",
      "366/366 [==============================] - 1s 1ms/step - loss: 2.8402e-04 - mean_squared_error: 2.8402e-04\n",
      "Epoch 93/100\n",
      "366/366 [==============================] - 1s 2ms/step - loss: 2.8435e-04 - mean_squared_error: 2.8435e-04\n",
      "Epoch 94/100\n",
      "366/366 [==============================] - 1s 2ms/step - loss: 2.8494e-04 - mean_squared_error: 2.8494e-04\n",
      "Epoch 95/100\n",
      "366/366 [==============================] - 1s 1ms/step - loss: 2.8330e-04 - mean_squared_error: 2.8330e-04\n",
      "Epoch 96/100\n",
      "366/366 [==============================] - 1s 1ms/step - loss: 2.8462e-04 - mean_squared_error: 2.8462e-04\n",
      "Epoch 97/100\n",
      "366/366 [==============================] - 1s 2ms/step - loss: 2.8384e-04 - mean_squared_error: 2.8384e-04\n",
      "Epoch 98/100\n",
      "366/366 [==============================] - 1s 1ms/step - loss: 2.8248e-04 - mean_squared_error: 2.8248e-04\n",
      "Epoch 99/100\n",
      "366/366 [==============================] - 1s 1ms/step - loss: 2.8400e-04 - mean_squared_error: 2.8400e-04\n",
      "Epoch 100/100\n",
      "366/366 [==============================] - 1s 2ms/step - loss: 2.8537e-04 - mean_squared_error: 2.8537e-04\n"
     ]
    }
   ],
   "source": [
    "history = ann.fit(x_train, y_train, epochs=100)"
   ]
  },
  {
   "cell_type": "code",
   "execution_count": 93,
   "metadata": {},
   "outputs": [
    {
     "name": "stdout",
     "output_type": "stream",
     "text": [
      "Model: \"sequential\"\n",
      "_________________________________________________________________\n",
      " Layer (type)                Output Shape              Param #   \n",
      "=================================================================\n",
      " dense (Dense)               (None, 6)                 42        \n",
      "                                                                 \n",
      " dense_1 (Dense)             (None, 6)                 42        \n",
      "                                                                 \n",
      " dense_2 (Dense)             (None, 1)                 7         \n",
      "                                                                 \n",
      "=================================================================\n",
      "Total params: 91 (364.00 Byte)\n",
      "Trainable params: 91 (364.00 Byte)\n",
      "Non-trainable params: 0 (0.00 Byte)\n",
      "_________________________________________________________________\n"
     ]
    }
   ],
   "source": [
    "ann.summary()"
   ]
  },
  {
   "cell_type": "code",
   "execution_count": 94,
   "metadata": {},
   "outputs": [
    {
     "name": "stdout",
     "output_type": "stream",
     "text": [
      "ANN :\n"
     ]
    },
    {
     "name": "stdout",
     "output_type": "stream",
     "text": [
      "92/92 [==============================] - 0s 1ms/step\n",
      "Mean Squared Error = 0.00040434147286010585\n",
      "Mean Absolute Error = 0.002121904452399675\n",
      "Root Mean Squared Error = 0.020108243902939558\n"
     ]
    }
   ],
   "source": [
    "print(\"ANN :\")\n",
    "print_error(x_test, y_test, ann)"
   ]
  },
  {
   "cell_type": "code",
   "execution_count": 95,
   "metadata": {},
   "outputs": [],
   "source": [
    "joblib.dump(linear_model, \"Models/linear_model_youtubeadview.pkl\")\n",
    "joblib.dump(svr_model, \"Models/svr_model_youtubeadview.pkl\")\n",
    "joblib.dump(decision_tree_model, \"Models/decision_tree_model_youtubeadview.pkl\")\n",
    "joblib.dump(random_forest_model, \"Models/random_forest_model_youtubeadview.pkl\")\n",
    "\n",
    "ann.save(\"Models/ann_youtubeadview.h5\")"
   ]
  },
  {
   "cell_type": "code",
   "execution_count": null,
   "metadata": {},
   "outputs": [],
   "source": []
  }
 ],
 "metadata": {
  "kernelspec": {
   "display_name": "base",
   "language": "python",
   "name": "python3"
  },
  "language_info": {
   "codemirror_mode": {
    "name": "ipython",
    "version": 3
   },
   "file_extension": ".py",
   "mimetype": "text/x-python",
   "name": "python",
   "nbconvert_exporter": "python",
   "pygments_lexer": "ipython3",
   "version": "3.11.7"
  }
 },
 "nbformat": 4,
 "nbformat_minor": 2
}
